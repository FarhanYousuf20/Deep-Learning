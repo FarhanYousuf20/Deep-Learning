{
  "nbformat": 4,
  "nbformat_minor": 0,
  "metadata": {
    "colab": {
      "provenance": [],
      "gpuType": "T4"
    },
    "kernelspec": {
      "name": "python3",
      "display_name": "Python 3"
    },
    "language_info": {
      "name": "python"
    },
    "accelerator": "GPU"
  },
  "cells": [
    {
      "cell_type": "code",
      "source": [
        "\n",
        "\n",
        "import tensorflow as tf\n",
        "from tensorflow.keras.models import Model\n",
        "from tensorflow.keras.layers import Dense, GlobalAveragePooling2D\n",
        "from tensorflow.keras.datasets import cifar100\n",
        "from tensorflow.keras.utils import to_categorical\n",
        "import numpy as np\n",
        "import time\n",
        "\n",
        "(x_train, y_train), (x_test, y_test) = cifar100.load_data(label_mode='fine')\n",
        "\n",
        "\n",
        "selected_classes = list(range(20))\n",
        "\n",
        "\n",
        "train_filter = np.isin(y_train.flatten(), selected_classes)\n",
        "test_filter = np.isin(y_test.flatten(), selected_classes)\n",
        "\n",
        "x_train, y_train = x_train[train_filter], y_train[train_filter]\n",
        "x_test, y_test = x_test[test_filter], y_test[test_filter]\n",
        "\n",
        "\n",
        "y_train = np.array([selected_classes.index(i[0]) for i in y_train])\n",
        "y_test = np.array([selected_classes.index(i[0]) for i in y_test])\n",
        "\n",
        "\n",
        "x_train = x_train.astype(\"float32\") / 255.0\n",
        "x_test = x_test.astype(\"float32\") / 255.0\n",
        "y_train = to_categorical(y_train, 20)\n",
        "y_test = to_categorical(y_test, 20)\n",
        "\n",
        "\n",
        "x_train = tf.image.resize(x_train, (224, 224))\n",
        "x_test = tf.image.resize(x_test, (224, 224))\n",
        "\n",
        "\n"
      ],
      "metadata": {
        "id": "dcVxzx-FU_Hd"
      },
      "execution_count": 1,
      "outputs": []
    },
    {
      "cell_type": "markdown",
      "source": [
        "Building Each Model"
      ],
      "metadata": {
        "id": "cGbj9YT-gQT6"
      }
    },
    {
      "cell_type": "code",
      "source": [
        "\n",
        "def build_model(pretrained_model, input_shape=(224, 224, 3), num_classes=20):\n",
        "    base_model = pretrained_model(weights='imagenet', include_top=False, input_shape=input_shape)\n",
        "    base_model.trainable = False\n",
        "\n",
        "    x = base_model.output\n",
        "    x = GlobalAveragePooling2D()(x)\n",
        "    x = Dense(64, activation='relu')(x)\n",
        "    predictions = Dense(num_classes, activation='softmax')(x)\n",
        "\n",
        "    model = Model(inputs=base_model.input, outputs=predictions)\n",
        "    model.compile(optimizer='adam', loss='categorical_crossentropy', metrics=['accuracy'])\n",
        "    return model"
      ],
      "metadata": {
        "id": "l8BDLMODVA_m"
      },
      "execution_count": 2,
      "outputs": []
    },
    {
      "cell_type": "markdown",
      "source": [
        "Model 1: **ResNet50**"
      ],
      "metadata": {
        "id": "pymQOVNMgWCW"
      }
    },
    {
      "cell_type": "code",
      "source": [
        "from tensorflow.keras.applications import ResNet50\n",
        "\n",
        "model = build_model(ResNet50)\n",
        "start_time = time.time()\n",
        "model.fit(x_train, y_train, validation_data=(x_test, y_test), epochs=3, batch_size=32)\n",
        "end_time = time.time()\n",
        "loss, acc = model.evaluate(x_test, y_test)\n",
        "inference_time = (end_time - start_time) / len(x_test)\n",
        "model_size = model.count_params() * 4 / (1024 ** 2)\n",
        "print(\"Model Size:\", model_size)\n",
        "print(\"Inference Time:\", inference_time)\n",
        "print(\"ResNet50 Test Loss:\", loss)\n",
        "print(\"ResNet50 Test Accuracy:\", acc)\n"
      ],
      "metadata": {
        "colab": {
          "base_uri": "https://localhost:8080/"
        },
        "id": "EQ5xbuX-VBD2",
        "outputId": "90d33560-ed9f-48f9-ce84-c4bf649aed2d"
      },
      "execution_count": 5,
      "outputs": [
        {
          "output_type": "stream",
          "name": "stdout",
          "text": [
            "Downloading data from https://storage.googleapis.com/tensorflow/keras-applications/resnet/resnet50_weights_tf_dim_ordering_tf_kernels_notop.h5\n",
            "\u001b[1m94765736/94765736\u001b[0m \u001b[32m━━━━━━━━━━━━━━━━━━━━\u001b[0m\u001b[37m\u001b[0m \u001b[1m0s\u001b[0m 0us/step\n",
            "Epoch 1/3\n",
            "\u001b[1m313/313\u001b[0m \u001b[32m━━━━━━━━━━━━━━━━━━━━\u001b[0m\u001b[37m\u001b[0m \u001b[1m56s\u001b[0m 133ms/step - accuracy: 0.0475 - loss: 3.0220 - val_accuracy: 0.0500 - val_loss: 2.9958\n",
            "Epoch 2/3\n",
            "\u001b[1m313/313\u001b[0m \u001b[32m━━━━━━━━━━━━━━━━━━━━\u001b[0m\u001b[37m\u001b[0m \u001b[1m65s\u001b[0m 98ms/step - accuracy: 0.0471 - loss: 2.9960 - val_accuracy: 0.0500 - val_loss: 2.9957\n",
            "Epoch 3/3\n",
            "\u001b[1m313/313\u001b[0m \u001b[32m━━━━━━━━━━━━━━━━━━━━\u001b[0m\u001b[37m\u001b[0m \u001b[1m32s\u001b[0m 102ms/step - accuracy: 0.0521 - loss: 2.9959 - val_accuracy: 0.0500 - val_loss: 2.9957\n",
            "\u001b[1m63/63\u001b[0m \u001b[32m━━━━━━━━━━━━━━━━━━━━\u001b[0m\u001b[37m\u001b[0m \u001b[1m5s\u001b[0m 85ms/step - accuracy: 0.0580 - loss: 2.9957\n",
            "Model Size: 90.48518371582031\n",
            "Inference Time: 0.08001346492767333\n",
            "ResNet50 Test Loss: 2.995741128921509\n",
            "ResNet50 Test Accuracy: 0.05000000074505806\n"
          ]
        }
      ]
    },
    {
      "cell_type": "markdown",
      "source": [
        "Model 2: **VGG16**"
      ],
      "metadata": {
        "id": "UlnrjKf5gfL5"
      }
    },
    {
      "cell_type": "code",
      "source": [
        "from tensorflow.keras.applications import VGG16\n",
        "\n",
        "model = build_model(VGG16)\n",
        "start_time = time.time()\n",
        "model.fit(x_train, y_train, validation_data=(x_test, y_test), epochs=3, batch_size=32)\n",
        "end_time = time.time()\n",
        "loss, acc = model.evaluate(x_test, y_test)\n",
        "inference_time = (end_time - start_time) / len(x_test)\n",
        "model_size = model.count_params() * 4 / (1024 ** 2)\n",
        "print(\"Model Size:\", model_size)\n",
        "print(\"Inference Time:\", inference_time)\n",
        "print(\"VGG16 Test Loss:\", loss)\n",
        "print(\"VGG16 Test Accuracy:\", acc)\n"
      ],
      "metadata": {
        "id": "vU-DyLSGVBMB",
        "colab": {
          "base_uri": "https://localhost:8080/"
        },
        "outputId": "e8605e51-8351-4a5d-fd27-bf9ad7a07d64"
      },
      "execution_count": 6,
      "outputs": [
        {
          "output_type": "stream",
          "name": "stdout",
          "text": [
            "Downloading data from https://storage.googleapis.com/tensorflow/keras-applications/vgg16/vgg16_weights_tf_dim_ordering_tf_kernels_notop.h5\n",
            "\u001b[1m58889256/58889256\u001b[0m \u001b[32m━━━━━━━━━━━━━━━━━━━━\u001b[0m\u001b[37m\u001b[0m \u001b[1m0s\u001b[0m 0us/step\n",
            "Epoch 1/3\n",
            "\u001b[1m313/313\u001b[0m \u001b[32m━━━━━━━━━━━━━━━━━━━━\u001b[0m\u001b[37m\u001b[0m \u001b[1m91s\u001b[0m 245ms/step - accuracy: 0.1160 - loss: 2.9091 - val_accuracy: 0.2730 - val_loss: 2.5278\n",
            "Epoch 2/3\n",
            "\u001b[1m313/313\u001b[0m \u001b[32m━━━━━━━━━━━━━━━━━━━━\u001b[0m\u001b[37m\u001b[0m \u001b[1m129s\u001b[0m 246ms/step - accuracy: 0.2820 - loss: 2.4489 - val_accuracy: 0.3495 - val_loss: 2.2202\n",
            "Epoch 3/3\n",
            "\u001b[1m313/313\u001b[0m \u001b[32m━━━━━━━━━━━━━━━━━━━━\u001b[0m\u001b[37m\u001b[0m \u001b[1m73s\u001b[0m 217ms/step - accuracy: 0.3442 - loss: 2.2079 - val_accuracy: 0.3745 - val_loss: 2.0605\n",
            "\u001b[1m63/63\u001b[0m \u001b[32m━━━━━━━━━━━━━━━━━━━━\u001b[0m\u001b[37m\u001b[0m \u001b[1m11s\u001b[0m 176ms/step - accuracy: 0.3716 - loss: 2.0673\n",
            "Model Size: 56.26228332519531\n",
            "Inference Time: 0.14645052468776704\n",
            "VGG16 Test Loss: 2.060495138168335\n",
            "VGG16 Test Accuracy: 0.37450000643730164\n"
          ]
        }
      ]
    },
    {
      "cell_type": "markdown",
      "source": [
        "Model 3: **VGG19**"
      ],
      "metadata": {
        "id": "sojUL373gmMV"
      }
    },
    {
      "cell_type": "code",
      "source": [
        "from tensorflow.keras.applications import VGG19\n",
        "\n",
        "model = build_model(VGG19)\n",
        "start_time = time.time()\n",
        "model.fit(x_train, y_train, validation_data=(x_test, y_test), epochs=3, batch_size=32)\n",
        "end_time = time.time()\n",
        "loss, acc = model.evaluate(x_test, y_test)\n",
        "inference_time = (end_time - start_time) / len(x_test)\n",
        "model_size = model.count_params() * 4 / (1024 ** 2)\n",
        "print(\"Model Size:\", model_size)\n",
        "print(\"Inference Time:\", inference_time)\n",
        "print(\"VGG19 Test Loss:\", loss)\n",
        "print(\"VGG19 Test Accuracy:\", acc)"
      ],
      "metadata": {
        "colab": {
          "base_uri": "https://localhost:8080/"
        },
        "id": "qMDRNWNvVBGp",
        "outputId": "5f14d183-0903-4fd3-a84d-84d6e069debb"
      },
      "execution_count": 7,
      "outputs": [
        {
          "output_type": "stream",
          "name": "stdout",
          "text": [
            "Downloading data from https://storage.googleapis.com/tensorflow/keras-applications/vgg19/vgg19_weights_tf_dim_ordering_tf_kernels_notop.h5\n",
            "\u001b[1m80134624/80134624\u001b[0m \u001b[32m━━━━━━━━━━━━━━━━━━━━\u001b[0m\u001b[37m\u001b[0m \u001b[1m0s\u001b[0m 0us/step\n",
            "Epoch 1/3\n",
            "\u001b[1m313/313\u001b[0m \u001b[32m━━━━━━━━━━━━━━━━━━━━\u001b[0m\u001b[37m\u001b[0m \u001b[1m88s\u001b[0m 274ms/step - accuracy: 0.1049 - loss: 2.9432 - val_accuracy: 0.2430 - val_loss: 2.6308\n",
            "Epoch 2/3\n",
            "\u001b[1m313/313\u001b[0m \u001b[32m━━━━━━━━━━━━━━━━━━━━\u001b[0m\u001b[37m\u001b[0m \u001b[1m90s\u001b[0m 289ms/step - accuracy: 0.2332 - loss: 2.5589 - val_accuracy: 0.2905 - val_loss: 2.3655\n",
            "Epoch 3/3\n",
            "\u001b[1m313/313\u001b[0m \u001b[32m━━━━━━━━━━━━━━━━━━━━\u001b[0m\u001b[37m\u001b[0m \u001b[1m143s\u001b[0m 291ms/step - accuracy: 0.2890 - loss: 2.3465 - val_accuracy: 0.3150 - val_loss: 2.2485\n",
            "\u001b[1m63/63\u001b[0m \u001b[32m━━━━━━━━━━━━━━━━━━━━\u001b[0m\u001b[37m\u001b[0m \u001b[1m13s\u001b[0m 212ms/step - accuracy: 0.3177 - loss: 2.2336\n",
            "Model Size: 76.51716613769531\n",
            "Inference Time: 0.18590007340908052\n",
            "VGG19 Test Loss: 2.2484848499298096\n",
            "VGG19 Test Accuracy: 0.3149999976158142\n"
          ]
        }
      ]
    },
    {
      "cell_type": "markdown",
      "source": [
        "Model 4: **ResNet101**"
      ],
      "metadata": {
        "id": "Qgn1-R0lgv5c"
      }
    },
    {
      "cell_type": "code",
      "source": [
        "from tensorflow.keras.applications import ResNet101\n",
        "\n",
        "model = build_model(ResNet101)\n",
        "start_time = time.time()\n",
        "model.fit(x_train, y_train, validation_data=(x_test, y_test), epochs=3, batch_size=32)\n",
        "end_time = time.time()\n",
        "loss, acc = model.evaluate(x_test, y_test)\n",
        "inference_time = (end_time - start_time) / len(x_test)\n",
        "model_size = model.count_params() * 4 / (1024 ** 2)\n",
        "print(\"Model Size:\", model_size)\n",
        "print(\"Inference Time:\", inference_time)\n",
        "print(\"ResNet101 Test Loss:\", loss)\n",
        "print(\"ResNet101 Test Accuracy:\", acc)\n"
      ],
      "metadata": {
        "colab": {
          "base_uri": "https://localhost:8080/"
        },
        "id": "YzFYk4qrVBO5",
        "outputId": "4f6027d5-8c10-400b-9969-22e0cc4f8392"
      },
      "execution_count": 8,
      "outputs": [
        {
          "output_type": "stream",
          "name": "stdout",
          "text": [
            "Downloading data from https://storage.googleapis.com/tensorflow/keras-applications/resnet/resnet101_weights_tf_dim_ordering_tf_kernels_notop.h5\n",
            "\u001b[1m171446536/171446536\u001b[0m \u001b[32m━━━━━━━━━━━━━━━━━━━━\u001b[0m\u001b[37m\u001b[0m \u001b[1m1s\u001b[0m 0us/step\n",
            "Epoch 1/3\n",
            "\u001b[1m313/313\u001b[0m \u001b[32m━━━━━━━━━━━━━━━━━━━━\u001b[0m\u001b[37m\u001b[0m \u001b[1m89s\u001b[0m 228ms/step - accuracy: 0.0537 - loss: 3.0198 - val_accuracy: 0.0500 - val_loss: 2.9913\n",
            "Epoch 2/3\n",
            "\u001b[1m313/313\u001b[0m \u001b[32m━━━━━━━━━━━━━━━━━━━━\u001b[0m\u001b[37m\u001b[0m \u001b[1m65s\u001b[0m 188ms/step - accuracy: 0.0663 - loss: 2.9853 - val_accuracy: 0.0805 - val_loss: 2.9651\n",
            "Epoch 3/3\n",
            "\u001b[1m313/313\u001b[0m \u001b[32m━━━━━━━━━━━━━━━━━━━━\u001b[0m\u001b[37m\u001b[0m \u001b[1m81s\u001b[0m 186ms/step - accuracy: 0.0756 - loss: 2.9662 - val_accuracy: 0.0875 - val_loss: 2.9510\n",
            "\u001b[1m63/63\u001b[0m \u001b[32m━━━━━━━━━━━━━━━━━━━━\u001b[0m\u001b[37m\u001b[0m \u001b[1m9s\u001b[0m 146ms/step - accuracy: 0.0933 - loss: 2.9499\n",
            "Model Size: 163.2332305908203\n",
            "Inference Time: 0.12930034410953523\n",
            "ResNet101 Test Loss: 2.9509963989257812\n",
            "ResNet101 Test Accuracy: 0.08749999850988388\n"
          ]
        }
      ]
    },
    {
      "cell_type": "markdown",
      "source": [
        "Model 5: **NASNetMobile**"
      ],
      "metadata": {
        "id": "7Pgby0_il3Os"
      }
    },
    {
      "cell_type": "code",
      "source": [
        "from tensorflow.keras.applications import NASNetMobile\n",
        "\n",
        "model = build_model(NASNetMobile)\n",
        "start_time = time.time()\n",
        "model.fit(x_train, y_train, validation_data=(x_test, y_test), epochs=3, batch_size=32)\n",
        "end_time = time.time()\n",
        "loss, acc = model.evaluate(x_test, y_test)\n",
        "inference_time = (end_time - start_time) / len(x_test)\n",
        "model_size = model.count_params() * 4 / (1024 ** 2)\n",
        "print(\"Model Size:\", model_size)\n",
        "print(\"Inference Time:\", inference_time)\n",
        "print(\"NASNetMobile Test Loss:\", loss)\n",
        "print(\"NASNetMobileNet Test Accuracy:\", acc)\n"
      ],
      "metadata": {
        "colab": {
          "base_uri": "https://localhost:8080/"
        },
        "id": "Qhtx8UmRVBRV",
        "outputId": "2954846e-2b60-40bd-bff6-31a11ce46038"
      },
      "execution_count": 9,
      "outputs": [
        {
          "output_type": "stream",
          "name": "stdout",
          "text": [
            "Downloading data from https://storage.googleapis.com/tensorflow/keras-applications/nasnet/NASNet-mobile-no-top.h5\n",
            "\u001b[1m19993432/19993432\u001b[0m \u001b[32m━━━━━━━━━━━━━━━━━━━━\u001b[0m\u001b[37m\u001b[0m \u001b[1m0s\u001b[0m 0us/step\n",
            "Epoch 1/3\n",
            "\u001b[1m313/313\u001b[0m \u001b[32m━━━━━━━━━━━━━━━━━━━━\u001b[0m\u001b[37m\u001b[0m \u001b[1m87s\u001b[0m 167ms/step - accuracy: 0.5733 - loss: 1.4789 - val_accuracy: 0.7935 - val_loss: 0.6754\n",
            "Epoch 2/3\n",
            "\u001b[1m313/313\u001b[0m \u001b[32m━━━━━━━━━━━━━━━━━━━━\u001b[0m\u001b[37m\u001b[0m \u001b[1m38s\u001b[0m 68ms/step - accuracy: 0.8058 - loss: 0.6086 - val_accuracy: 0.8130 - val_loss: 0.6128\n",
            "Epoch 3/3\n",
            "\u001b[1m313/313\u001b[0m \u001b[32m━━━━━━━━━━━━━━━━━━━━\u001b[0m\u001b[37m\u001b[0m \u001b[1m41s\u001b[0m 68ms/step - accuracy: 0.8370 - loss: 0.5166 - val_accuracy: 0.8065 - val_loss: 0.6186\n",
            "\u001b[1m63/63\u001b[0m \u001b[32m━━━━━━━━━━━━━━━━━━━━\u001b[0m\u001b[37m\u001b[0m \u001b[1m4s\u001b[0m 60ms/step - accuracy: 0.7871 - loss: 0.6688\n",
            "Model Size: 16.550689697265625\n",
            "Inference Time: 0.09241283798217774\n",
            "NASNetMobile Test Loss: 0.6185817718505859\n",
            "NASNetMobileNet Test Accuracy: 0.8065000176429749\n"
          ]
        }
      ]
    },
    {
      "cell_type": "markdown",
      "source": [
        "Model 6: **MobileNetV2**"
      ],
      "metadata": {
        "id": "ZW9qgfOd0M4d"
      }
    },
    {
      "cell_type": "code",
      "source": [
        "from tensorflow.keras.applications import MobileNetV2\n",
        "\n",
        "model= build_model(MobileNetV2)\n",
        "start_time = time.time()\n",
        "model.fit(x_train, y_train, validation_data=(x_test, y_test), epochs=5, batch_size=32)\n",
        "end_time = time.time()\n",
        "loss, acc = model.evaluate(x_test, y_test)\n",
        "inference_time = (end_time - start_time) / len(x_test)\n",
        "model_size = model.count_params() * 4 / (1024 ** 2)\n",
        "print(\"Model Size:\", model_size)\n",
        "print(\"Inference Time:\", inference_time)\n",
        "print(\"MobileNetV2 Test Loss:\", loss)\n",
        "print(\"MobileNetV2 Test Accuracy:\", acc)\n"
      ],
      "metadata": {
        "colab": {
          "base_uri": "https://localhost:8080/"
        },
        "id": "BeqD-PuoVBid",
        "outputId": "3ec74799-761a-4d9a-c3a0-713e8e7f8e11"
      },
      "execution_count": 10,
      "outputs": [
        {
          "output_type": "stream",
          "name": "stdout",
          "text": [
            "Downloading data from https://storage.googleapis.com/tensorflow/keras-applications/mobilenet_v2/mobilenet_v2_weights_tf_dim_ordering_tf_kernels_1.0_224_no_top.h5\n",
            "\u001b[1m9406464/9406464\u001b[0m \u001b[32m━━━━━━━━━━━━━━━━━━━━\u001b[0m\u001b[37m\u001b[0m \u001b[1m0s\u001b[0m 0us/step\n",
            "Epoch 1/5\n",
            "\u001b[1m313/313\u001b[0m \u001b[32m━━━━━━━━━━━━━━━━━━━━\u001b[0m\u001b[37m\u001b[0m \u001b[1m31s\u001b[0m 68ms/step - accuracy: 0.5040 - loss: 1.6564 - val_accuracy: 0.7150 - val_loss: 0.9005\n",
            "Epoch 2/5\n",
            "\u001b[1m313/313\u001b[0m \u001b[32m━━━━━━━━━━━━━━━━━━━━\u001b[0m\u001b[37m\u001b[0m \u001b[1m12s\u001b[0m 39ms/step - accuracy: 0.7692 - loss: 0.7048 - val_accuracy: 0.7590 - val_loss: 0.7009\n",
            "Epoch 3/5\n",
            "\u001b[1m313/313\u001b[0m \u001b[32m━━━━━━━━━━━━━━━━━━━━\u001b[0m\u001b[37m\u001b[0m \u001b[1m13s\u001b[0m 41ms/step - accuracy: 0.8139 - loss: 0.5670 - val_accuracy: 0.7715 - val_loss: 0.6902\n",
            "Epoch 4/5\n",
            "\u001b[1m313/313\u001b[0m \u001b[32m━━━━━━━━━━━━━━━━━━━━\u001b[0m\u001b[37m\u001b[0m \u001b[1m20s\u001b[0m 41ms/step - accuracy: 0.8372 - loss: 0.4889 - val_accuracy: 0.7770 - val_loss: 0.6768\n",
            "Epoch 5/5\n",
            "\u001b[1m313/313\u001b[0m \u001b[32m━━━━━━━━━━━━━━━━━━━━\u001b[0m\u001b[37m\u001b[0m \u001b[1m20s\u001b[0m 41ms/step - accuracy: 0.8606 - loss: 0.4306 - val_accuracy: 0.7805 - val_loss: 0.6871\n",
            "\u001b[1m63/63\u001b[0m \u001b[32m━━━━━━━━━━━━━━━━━━━━\u001b[0m\u001b[37m\u001b[0m \u001b[1m2s\u001b[0m 36ms/step - accuracy: 0.7701 - loss: 0.7132\n",
            "Model Size: 8.931228637695312\n",
            "Inference Time: 0.05214663410186768\n",
            "MobileNetV2 Test Loss: 0.6871206164360046\n",
            "MobileNetV2 Test Accuracy: 0.7804999947547913\n"
          ]
        }
      ]
    },
    {
      "cell_type": "markdown",
      "source": [
        "Model 7: **InceptionV3**"
      ],
      "metadata": {
        "id": "ArLpDdVGl9MV"
      }
    },
    {
      "cell_type": "code",
      "source": [
        "from tensorflow.keras.applications import InceptionV3\n",
        "\n",
        "model = build_model(InceptionV3)\n",
        "start_time = time.time()\n",
        "model.fit(x_train, y_train, validation_data=(x_test, y_test), epochs=3, batch_size=32)\n",
        "end_time = time.time()\n",
        "loss, acc = model.evaluate(x_test, y_test)\n",
        "inference_time = (end_time - start_time) / len(x_test)\n",
        "model_size = model.count_params() * 4 / (1024 ** 2)\n",
        "print(\"Model Size:\", model_size)\n",
        "print(\"Inference Time:\", inference_time)\n",
        "print(\"InceptionV3 Test Loss:\", loss)\n",
        "print(\"InceptionV3 Test Accuracy:\", acc)"
      ],
      "metadata": {
        "colab": {
          "base_uri": "https://localhost:8080/"
        },
        "id": "GpNVXKVAVBVN",
        "outputId": "27e30678-eb4c-412b-f0eb-ad746f035ae5"
      },
      "execution_count": 11,
      "outputs": [
        {
          "output_type": "stream",
          "name": "stdout",
          "text": [
            "Downloading data from https://storage.googleapis.com/tensorflow/keras-applications/inception_v3/inception_v3_weights_tf_dim_ordering_tf_kernels_notop.h5\n",
            "\u001b[1m87910968/87910968\u001b[0m \u001b[32m━━━━━━━━━━━━━━━━━━━━\u001b[0m\u001b[37m\u001b[0m \u001b[1m1s\u001b[0m 0us/step\n",
            "Epoch 1/3\n",
            "\u001b[1m313/313\u001b[0m \u001b[32m━━━━━━━━━━━━━━━━━━━━\u001b[0m\u001b[37m\u001b[0m \u001b[1m58s\u001b[0m 134ms/step - accuracy: 0.5477 - loss: 1.5366 - val_accuracy: 0.7705 - val_loss: 0.7551\n",
            "Epoch 2/3\n",
            "\u001b[1m313/313\u001b[0m \u001b[32m━━━━━━━━━━━━━━━━━━━━\u001b[0m\u001b[37m\u001b[0m \u001b[1m57s\u001b[0m 83ms/step - accuracy: 0.8027 - loss: 0.6257 - val_accuracy: 0.7665 - val_loss: 0.7320\n",
            "Epoch 3/3\n",
            "\u001b[1m313/313\u001b[0m \u001b[32m━━━━━━━━━━━━━━━━━━━━\u001b[0m\u001b[37m\u001b[0m \u001b[1m40s\u001b[0m 80ms/step - accuracy: 0.8419 - loss: 0.4801 - val_accuracy: 0.7785 - val_loss: 0.7174\n",
            "\u001b[1m63/63\u001b[0m \u001b[32m━━━━━━━━━━━━━━━━━━━━\u001b[0m\u001b[37m\u001b[0m \u001b[1m4s\u001b[0m 66ms/step - accuracy: 0.7763 - loss: 0.7268\n",
            "Model Size: 83.67622375488281\n",
            "Inference Time: 0.07779799401760101\n",
            "InceptionV3 Test Loss: 0.7173748016357422\n",
            "InceptionV3 Test Accuracy: 0.7785000205039978\n"
          ]
        }
      ]
    },
    {
      "cell_type": "markdown",
      "source": [
        "Model 8: **Xception**"
      ],
      "metadata": {
        "id": "_A3tuF48z3P9"
      }
    },
    {
      "cell_type": "code",
      "source": [
        "from tensorflow.keras.applications import Xception\n",
        "\n",
        "model = build_model(Xception)\n",
        "start_time = time.time()\n",
        "model.fit(x_train, y_train, validation_data=(x_test, y_test), epochs=3, batch_size=32)\n",
        "end_time = time.time()\n",
        "loss, acc = model.evaluate(x_test, y_test)\n",
        "inference_time = (end_time - start_time) / len(x_test)\n",
        "model_size = model.count_params() * 4 / (1024 ** 2)\n",
        "print(\"Model Size:\", model_size)\n",
        "print(\"Inference Time:\", inference_time)\n",
        "print(\"Xception Test Loss:\", loss)\n",
        "print(\"Xception Test Accuracy:\", acc)"
      ],
      "metadata": {
        "colab": {
          "base_uri": "https://localhost:8080/"
        },
        "id": "fFuQpukYVe9V",
        "outputId": "e37080be-3c1a-485f-d5d7-28199577ad2a"
      },
      "execution_count": 12,
      "outputs": [
        {
          "output_type": "stream",
          "name": "stdout",
          "text": [
            "Downloading data from https://storage.googleapis.com/tensorflow/keras-applications/xception/xception_weights_tf_dim_ordering_tf_kernels_notop.h5\n",
            "\u001b[1m83683744/83683744\u001b[0m \u001b[32m━━━━━━━━━━━━━━━━━━━━\u001b[0m\u001b[37m\u001b[0m \u001b[1m1s\u001b[0m 0us/step\n",
            "Epoch 1/3\n",
            "\u001b[1m313/313\u001b[0m \u001b[32m━━━━━━━━━━━━━━━━━━━━\u001b[0m\u001b[37m\u001b[0m \u001b[1m83s\u001b[0m 224ms/step - accuracy: 0.6210 - loss: 1.3544 - val_accuracy: 0.8095 - val_loss: 0.6307\n",
            "Epoch 2/3\n",
            "\u001b[1m313/313\u001b[0m \u001b[32m━━━━━━━━━━━━━━━━━━━━\u001b[0m\u001b[37m\u001b[0m \u001b[1m57s\u001b[0m 174ms/step - accuracy: 0.8316 - loss: 0.5164 - val_accuracy: 0.8090 - val_loss: 0.5856\n",
            "Epoch 3/3\n",
            "\u001b[1m313/313\u001b[0m \u001b[32m━━━━━━━━━━━━━━━━━━━━\u001b[0m\u001b[37m\u001b[0m \u001b[1m81s\u001b[0m 171ms/step - accuracy: 0.8699 - loss: 0.4121 - val_accuracy: 0.8120 - val_loss: 0.5775\n",
            "\u001b[1m63/63\u001b[0m \u001b[32m━━━━━━━━━━━━━━━━━━━━\u001b[0m\u001b[37m\u001b[0m \u001b[1m8s\u001b[0m 132ms/step - accuracy: 0.8167 - loss: 0.6032\n",
            "Model Size: 80.08543395996094\n",
            "Inference Time: 0.12515214204788208\n",
            "Xception Test Loss: 0.5775164365768433\n",
            "Xception Test Accuracy: 0.8119999766349792\n"
          ]
        }
      ]
    },
    {
      "cell_type": "markdown",
      "source": [
        "Model 9: **ConvNeXtSmall**"
      ],
      "metadata": {
        "id": "j5yzMLuPz-X9"
      }
    },
    {
      "cell_type": "code",
      "source": [
        "from tensorflow.keras.applications import ConvNeXtSmall\n",
        "\n",
        "model = build_model(ConvNeXtSmall)\n",
        "start_time = time.time()\n",
        "model.fit(x_train, y_train, validation_data=(x_test, y_test), epochs=3, batch_size=32)\n",
        "end_time = time.time()\n",
        "loss, acc = model.evaluate(x_test, y_test)\n",
        "inference_time = (end_time - start_time) / len(x_test)\n",
        "model_size = model.count_params() * 4 / (1024 ** 2)\n",
        "print(\"Model Size:\", model_size)\n",
        "print(\"Inference Time:\", inference_time)\n",
        "print(\"ConvNeXtSmall Test Loss:\", loss)\n",
        "print(\"ConvNeXtSmall Test Accuracy:\", acc)\n",
        "\n"
      ],
      "metadata": {
        "colab": {
          "base_uri": "https://localhost:8080/"
        },
        "id": "db6rsd9qVfAM",
        "outputId": "790cb424-e3e0-4fc2-d649-1f4b02da1955"
      },
      "execution_count": 3,
      "outputs": [
        {
          "output_type": "stream",
          "name": "stdout",
          "text": [
            "Epoch 1/3\n",
            "\u001b[1m313/313\u001b[0m \u001b[32m━━━━━━━━━━━━━━━━━━━━\u001b[0m\u001b[37m\u001b[0m \u001b[1m124s\u001b[0m 321ms/step - accuracy: 0.0483 - loss: 3.0407 - val_accuracy: 0.0500 - val_loss: 3.0028\n",
            "Epoch 2/3\n",
            "\u001b[1m313/313\u001b[0m \u001b[32m━━━━━━━━━━━━━━━━━━━━\u001b[0m\u001b[37m\u001b[0m \u001b[1m125s\u001b[0m 294ms/step - accuracy: 0.0467 - loss: 3.0010 - val_accuracy: 0.0500 - val_loss: 2.9958\n",
            "Epoch 3/3\n",
            "\u001b[1m313/313\u001b[0m \u001b[32m━━━━━━━━━━━━━━━━━━━━\u001b[0m\u001b[37m\u001b[0m \u001b[1m135s\u001b[0m 272ms/step - accuracy: 0.0487 - loss: 2.9959 - val_accuracy: 0.0500 - val_loss: 2.9958\n",
            "\u001b[1m63/63\u001b[0m \u001b[32m━━━━━━━━━━━━━━━━━━━━\u001b[0m\u001b[37m\u001b[0m \u001b[1m14s\u001b[0m 217ms/step - accuracy: 0.0460 - loss: 2.9958\n",
            "Model Size: 188.8473663330078\n",
            "Inference Time: 0.2228741408586502\n",
            "ConvNeXtSmall Test Loss: 2.9957542419433594\n",
            "ConvNeXtSmall Test Accuracy: 0.05000000074505806\n"
          ]
        }
      ]
    },
    {
      "cell_type": "markdown",
      "source": [
        "Model 10: **DenseNet121**"
      ],
      "metadata": {
        "id": "cnW8BQia0GrF"
      }
    },
    {
      "cell_type": "code",
      "source": [
        "from tensorflow.keras.applications import DenseNet121\n",
        "\n",
        "model = build_model(DenseNet121)\n",
        "start_time = time.time()\n",
        "model.fit(x_train, y_train, validation_data=(x_test, y_test), epochs=3, batch_size=32)\n",
        "end_time = time.time()\n",
        "loss, acc = model.evaluate(x_test, y_test)\n",
        "inference_time = (end_time - start_time) / len(x_test)\n",
        "model_size = model.count_params() * 4 / (1024 ** 2)\n",
        "print(\"Model Size:\", model_size)\n",
        "print(\"Inference Time:\", inference_time)\n",
        "print(\"DenseNet121 Test Loss:\", loss)\n",
        "print(\"DenseNet121 Test Accuracy:\", acc)\n",
        "\n"
      ],
      "metadata": {
        "colab": {
          "base_uri": "https://localhost:8080/"
        },
        "id": "9HERXleHVBf2",
        "outputId": "fe3c4cce-3a34-4f93-d777-0194e17a1cff"
      },
      "execution_count": 4,
      "outputs": [
        {
          "output_type": "stream",
          "name": "stdout",
          "text": [
            "Downloading data from https://storage.googleapis.com/tensorflow/keras-applications/densenet/densenet121_weights_tf_dim_ordering_tf_kernels_notop.h5\n",
            "\u001b[1m29084464/29084464\u001b[0m \u001b[32m━━━━━━━━━━━━━━━━━━━━\u001b[0m\u001b[37m\u001b[0m \u001b[1m0s\u001b[0m 0us/step\n",
            "Epoch 1/3\n",
            "\u001b[1m313/313\u001b[0m \u001b[32m━━━━━━━━━━━━━━━━━━━━\u001b[0m\u001b[37m\u001b[0m \u001b[1m86s\u001b[0m 187ms/step - accuracy: 0.4830 - loss: 1.7632 - val_accuracy: 0.7615 - val_loss: 0.7688\n",
            "Epoch 2/3\n",
            "\u001b[1m313/313\u001b[0m \u001b[32m━━━━━━━━━━━━━━━━━━━━\u001b[0m\u001b[37m\u001b[0m \u001b[1m29s\u001b[0m 93ms/step - accuracy: 0.7814 - loss: 0.6906 - val_accuracy: 0.7995 - val_loss: 0.6539\n",
            "Epoch 3/3\n",
            "\u001b[1m313/313\u001b[0m \u001b[32m━━━━━━━━━━━━━━━━━━━━\u001b[0m\u001b[37m\u001b[0m \u001b[1m40s\u001b[0m 92ms/step - accuracy: 0.8136 - loss: 0.5761 - val_accuracy: 0.7815 - val_loss: 0.6771\n",
            "\u001b[1m63/63\u001b[0m \u001b[32m━━━━━━━━━━━━━━━━━━━━\u001b[0m\u001b[37m\u001b[0m \u001b[1m5s\u001b[0m 76ms/step - accuracy: 0.7727 - loss: 0.7115\n",
            "Model Size: 27.101150512695312\n",
            "Inference Time: 0.08401752257347107\n",
            "DenseNet121 Test Loss: 0.6771495342254639\n",
            "DenseNet121 Test Accuracy: 0.781499981880188\n"
          ]
        }
      ]
    }
  ]
}